{
  "nbformat": 4,
  "nbformat_minor": 0,
  "metadata": {
    "colab": {
      "provenance": []
    },
    "kernelspec": {
      "name": "python3",
      "display_name": "Python 3"
    },
    "language_info": {
      "name": "python"
    }
  },
  "cells": [
    {
      "cell_type": "code",
      "execution_count": 1,
      "metadata": {
        "id": "78oHdRdYqexj"
      },
      "outputs": [],
      "source": [
        "#Tamim Mahmud from Daffodil International University\n",
        "#12/07/2025\n",
        "#Day 18"
      ]
    },
    {
      "cell_type": "code",
      "source": [],
      "metadata": {
        "id": "OFYRlEVCqtBT"
      },
      "execution_count": null,
      "outputs": []
    },
    {
      "cell_type": "markdown",
      "source": [
        "Part->7\n",
        "\n",
        "Softmax & Cross Entorpy Loss"
      ],
      "metadata": {
        "id": "_bm0pYsXre3m"
      }
    },
    {
      "cell_type": "code",
      "source": [
        "import torch\n",
        "import torch.nn.functional as F\n",
        "\n",
        "scores=torch.tensor([2.0,1.0,0.1,100.56,34.98])\n",
        "\n",
        "probabilites=F.softmax(scores,dim=0)\n",
        "\n",
        "print(\"Probbabilities: \",probabilites)\n",
        "print(\"Sum:\",probabilites.sum())"
      ],
      "metadata": {
        "colab": {
          "base_uri": "https://localhost:8080/"
        },
        "id": "nv3FFyVJrlla",
        "outputId": "5577d306-a159-4e42-845e-51b2e08a2ff8"
      },
      "execution_count": 3,
      "outputs": [
        {
          "output_type": "stream",
          "name": "stdout",
          "text": [
            "Probbabilities:  tensor([1.5695e-43, 5.7453e-44, 2.3822e-44, 1.0000e+00, 3.3034e-29])\n",
            "Sum: tensor(1.)\n"
          ]
        }
      ]
    },
    {
      "cell_type": "code",
      "source": [
        "import torch\n",
        "import torch.nn as nn\n",
        "import torch.nn.functional as F\n",
        "\n",
        "scores=torch.tensor([2.0,10.0,0.1])\n",
        "labels=torch.tensor([0])\n",
        "\n",
        "softmax=F.softmax(scores,dim=0)\n",
        "log_softmax=torch.log(softmax)\n",
        "loss_manual=-log_softmax[labels]\n",
        "\n",
        "print(\"Manual Loss: \",loss_manual.item())\n",
        "\n",
        "\n",
        "loss_fn=nn.CrossEntropyLoss()\n",
        "\n",
        "scores_batch=scores.unsqueeze(0)\n",
        "loss=loss_fn(scores_batch,labels)\n",
        "\n",
        "print(\"CrossEntropyLoss :\",loss.item())"
      ],
      "metadata": {
        "colab": {
          "base_uri": "https://localhost:8080/"
        },
        "id": "2aXcuILbsAJ-",
        "outputId": "ed4d19ab-e044-4db6-b552-34a276d6f958"
      },
      "execution_count": 5,
      "outputs": [
        {
          "output_type": "stream",
          "name": "stdout",
          "text": [
            "Manual Loss:  8.000385284423828\n",
            "CrossEntropyLoss : 8.000385284423828\n"
          ]
        }
      ]
    },
    {
      "cell_type": "code",
      "source": [
        "import torch\n",
        "import torch.nn as nn\n",
        "import torch.nn.functional as F\n",
        "\n",
        "scores=torch.tensor([20.0,45.87,23.94,12.35])\n",
        "labels=torch.tensor([0])\n",
        "\n",
        "softmax=F.softmax(scores,dim=0)\n",
        "\n",
        "log=torch.log(softmax)\n",
        "\n",
        "losman=-log[labels]\n",
        "print(\"Manual Loss: \",losman.item())\n",
        "\n",
        "loss_fn=nn.CrossEntropyLoss()\n",
        "\n",
        "score_bacth=scores.unsqueeze(0)\n",
        "\n",
        "loss=loss_fn(score_bacth,labels)\n",
        "print(\"CrossEntopyLoss: \",loss.item())\n"
      ],
      "metadata": {
        "colab": {
          "base_uri": "https://localhost:8080/"
        },
        "id": "AS-TB7S4tNVr",
        "outputId": "52ef74b8-d386-43ea-b536-2f34206c5dd4"
      },
      "execution_count": 8,
      "outputs": [
        {
          "output_type": "stream",
          "name": "stdout",
          "text": [
            "Manual Loss:  25.869998931884766\n",
            "CrossEntopyLoss:  25.869998931884766\n"
          ]
        }
      ]
    },
    {
      "cell_type": "code",
      "source": [
        "import torch\n",
        "import torch.nn as nn\n",
        "import torch.nn.functional as F\n",
        "\n",
        "logits=torch.tensor([[2.0,1.0,0.1],\n",
        "                    [1.0,3.0,4.0],\n",
        "                    [2.5,6.8,9.3]])\n",
        "\n",
        "labels=torch.tensor([0,1,2])\n",
        "\n",
        "softmax=F.softmax(logits,dim=1)\n",
        "print(\"proba:\",softmax)\n",
        "print(\"Sum:\",softmax.sum())\n",
        "\n",
        "loss_fn=nn.CrossEntropyLoss()\n",
        "\n",
        "loss=loss_fn(logits,labels)\n",
        "print(\"CEL:\",loss.item())\n",
        "\n",
        "log=torch.log(softmax)\n",
        "losm=-log[range(len(labels)),labels]\n",
        "print(\"Loss Manual per sample :\",losm)\n",
        "\n",
        "print(\"AVG loss manual:\",losm.mean())\n",
        "\n"
      ],
      "metadata": {
        "colab": {
          "base_uri": "https://localhost:8080/"
        },
        "id": "hQivWGrOwmJN",
        "outputId": "c9a7d1f4-b9c8-46c7-89a6-3aeb271fdc20"
      },
      "execution_count": 15,
      "outputs": [
        {
          "output_type": "stream",
          "name": "stdout",
          "text": [
            "proba: tensor([[0.6590, 0.2424, 0.0986],\n",
            "        [0.0351, 0.2595, 0.7054],\n",
            "        [0.0010, 0.0758, 0.9232]])\n",
            "Sum: tensor(3.0000)\n",
            "CEL: 0.6153202652931213\n",
            "Loss Manual per sample : tensor([0.4170, 1.3490, 0.0799])\n",
            "AVG loss manual: tensor(0.6153)\n"
          ]
        }
      ]
    },
    {
      "cell_type": "markdown",
      "source": [
        "MNIST প্রজেক্টের বেসিক কথা — একদম সহজ ভাষায়\n",
        "১. কী হলো MNIST?\n",
        "\n",
        "MNIST হলো ২৮×২৮ পিক্সেলের ছবি গুলো যেখানে হাতের লেখা সংখ্যা (0 থেকে 9) আছে।\n",
        "\n",
        "আমাদের কাজ হলো, মেশিনকে শেখানো এই ছবি দেখে ঠিক সংখ্যা চিনতে।\n",
        "\n",
        "২. মডেল কি?\n",
        "\n",
        "মডেল হলো একটা প্রোগ্রাম যা ছবি দেখে বলে এইটা কোন সংখ্যা।\n",
        "\n",
        "মডেল শিখবে কতটা ভুল এবং ঠিক হয়েছে।\n",
        "\n",
        "শেখার মাধ্যমে মডেল আরও ভালো হবে।\n",
        "\n",
        "৩. কোডের প্রধান কাজ কী?\n",
        "\n",
        "ডাটা লোড করা: ছবি গুলো কম্পিউটারে নিয়ে আসা\n",
        "\n",
        "মডেল তৈরি: একটা নিউরাল নেটওয়ার্ক বানানো যা ছবি থেকে সংখ্যা চিনবে\n",
        "\n",
        "শেখানো (Training): মডেলকে ছবি দেখিয়ে শেখানো\n",
        "\n",
        "পরীক্ষা (Testing): শেখার পরে মডেল কতটা ভালো কাজ করে তা দেখা\n",
        "\n"
      ],
      "metadata": {
        "id": "QGCBjG6S3DFd"
      }
    },
    {
      "cell_type": "code",
      "source": [
        "import torch\n",
        "import torchvision\n",
        "import torchvision.transforms as transforms\n",
        "\n",
        "# লাইব্রেরি ইমপোর্ট করা হলো: ছবি নিয়ে কাজ করার জন্য এবং মডেল তৈরির জন্য\n",
        "\n",
        "# ডাটা ট্রান্সফর্ম (প্রসেস) করার নিয়ম\n",
        "transform = transforms.ToTensor()\n",
        "\n",
        "# MNIST ট্রেনিং ডাটা ডাউনলোড এবং লোড করা হচ্ছে\n",
        "train_dataset = torchvision.datasets.MNIST(root='./data', train=True, download=True, transform=transform)\n",
        "\n",
        "# DataLoader বানানো হচ্ছে যাতে ব্যাচে ব্যাচে ডাটা পাওয়া যায়\n",
        "train_loader = torch.utils.data.DataLoader(dataset=train_dataset, batch_size=64, shuffle=True)\n",
        "\n",
        "# মডেল ডিফাইন করা হচ্ছে (একটা ছোট নিউরাল নেটওয়ার্ক)\n",
        "class SimpleNN(torch.nn.Module):\n",
        "    def __init__(self):\n",
        "        super(SimpleNN, self).__init__()\n",
        "        # প্রথম লেয়ার: 28*28 = 784 ইনপুট থেকে 128 নিউরন\n",
        "        self.fc1 = torch.nn.Linear(28*28, 128)\n",
        "        # দ্বিতীয় লেয়ার: 128 থেকে 10 নিউরন (10 ক্লাস)\n",
        "        self.fc2 = torch.nn.Linear(128, 10)\n",
        "\n",
        "    def forward(self, x):\n",
        "        # ২৮x২৮ ছবি কে ১D টেনসর এ রূপান্তর (flatten)\n",
        "        x = x.view(-1, 28*28)\n",
        "        # প্রথম লেয়ারে ফিড দিয়ে ReLU অ্যাক্টিভেশন দেয়া হচ্ছে\n",
        "        x = torch.relu(self.fc1(x))\n",
        "        # দ্বিতীয় লেয়ার আউটপুট (ক্লাস স্কোর)\n",
        "        x = self.fc2(x)\n",
        "        return x\n",
        "\n",
        "# মডেল ইনস্ট্যান্স তৈরি\n",
        "model = SimpleNN()\n",
        "\n",
        "# লস ফাংশন: Cross Entropy Loss (ক্লাসিফিকেশনের জন্য)\n",
        "criterion = torch.nn.CrossEntropyLoss()\n",
        "\n",
        "# অপটিমাইজার: Adam (মডেলের ওজন আপডেট করার জন্য)\n",
        "optimizer = torch.optim.Adam(model.parameters(), lr=0.001)\n",
        "\n",
        "# একিউরেসি হিসাবের জন্য ভেরিয়েবল\n",
        "correct = 0\n",
        "total = 0\n",
        "\n",
        "# ট্রেনিং লুপ শুরু\n",
        "for images, labels in train_loader:\n",
        "    # গ্রেডিয়েন্ট জিরো করা হচ্ছে (আগের ব্যাচের গ্রেডিয়েন্ট মুছে)\n",
        "    optimizer.zero_grad()\n",
        "\n",
        "    # মডেলে ছবি পাঠিয়ে আউটপুট (logits) পাওয়া\n",
        "    outputs = model(images)\n",
        "\n",
        "    # লস ক্যালকুলেট করা হচ্ছে\n",
        "    loss = criterion(outputs, labels)\n",
        "\n",
        "    # ব্যাকওয়ার্ড পাস (গ্রেডিয়েন্ট হিসাব)\n",
        "    loss.backward()\n",
        "\n",
        "    # অপটিমাইজার দিয়ে মডেলের ওজন আপডেট করা হচ্ছে\n",
        "    optimizer.step()\n",
        "\n",
        "    # prediction বের করা হচ্ছে (সবচেয়ে বেশি স্কোর যে ক্লাসের, সেটা)\n",
        "    _, predicted = torch.max(outputs, 1)\n",
        "\n",
        "    # কতগুলো prediction সঠিক হয়েছে সেটা গোনা হচ্ছে\n",
        "    correct += (predicted == labels).sum().item()\n",
        "\n",
        "    # মোট ছবির সংখ্যা গোনা হচ্ছে\n",
        "    total += labels.size(0)\n",
        "\n",
        "# ট্রেনিং শেষে একিউরেসি ক্যালকুলেট\n",
        "accuracy = 100 * correct / total\n",
        "print(f'Training Accuracy: {accuracy:.2f}%')\n"
      ],
      "metadata": {
        "id": "8Wxo-Mtt10xz",
        "outputId": "f3d3d598-729c-49db-8fff-38ea94108bbf",
        "colab": {
          "base_uri": "https://localhost:8080/"
        }
      },
      "execution_count": 17,
      "outputs": [
        {
          "output_type": "stream",
          "name": "stdout",
          "text": [
            "Training Accuracy: 90.89%\n"
          ]
        }
      ]
    },
    {
      "cell_type": "markdown",
      "source": [
        "Training Accuracy: 90.89% মানে কী?\n",
        "\n",
        "Training Accuracy হলো ট্রেনিং ডাটাতে মডেলের পারফরম্যান্সের পরিমাপ।\n",
        "\n",
        "\n",
        "এখানে ৯০.৮৯% মানে হলো মডেল যখন ট্রেনিং ডাটার ছবি দেখে অনুমান করেছে, তখন প্রায় ৯১% ছবির সঠিক সংখ্যা চিনতে পেরেছে।\n",
        "\n",
        "\n",
        "অন্য কথায়, ১০০ টা ছবির মধ্যে ৯১ টা ছবি মডেল ঠিকমতো ক্লাসিফাই করেছে।\n",
        "\n",
        "\n",
        "উদাহরণ:\n",
        "\n",
        "ধরো, মোট ট্রেনিং ডাটাতে ৬০০০০ ছবি আছে।\n",
        "\n",
        "\n",
        "মডেল সঠিকভাবে চিনেছে ৫৪৫৩৪ টি ছবি।\n",
        "\n",
        "\n",
        "তাহলে Accuracy = (৫৪৫৩৪ / ৬০০০০) × ১০০ = ৯০.৮৯%\n",
        "\n"
      ],
      "metadata": {
        "id": "a3ituFdF7VDK"
      }
    },
    {
      "cell_type": "code",
      "source": [
        "#Part->-8\n",
        "\n",
        "#Activation Function"
      ],
      "metadata": {
        "id": "X3mYDaF66zvg"
      },
      "execution_count": 19,
      "outputs": []
    },
    {
      "cell_type": "code",
      "source": [
        "import torch\n",
        "import matplotlib.pyplot as plt\n",
        "import torch.nn.functional as F\n",
        "\n",
        "x=torch.tensor([-1.0,0.0,1.0,2.0])\n",
        "\n",
        "sigmoid=torch.sigmoid(x)\n",
        "tanh=torch.tanh(x)\n",
        "relu=F.relu(x)\n",
        "leaky_relu=F.leaky_relu(x)\n",
        "\n",
        "print(\"Sigmoid:\",sigmoid)\n",
        "print(\"Tanh:\",tanh)\n",
        "print(\"ReLu:\",relu)\n",
        "print(\"Leaky ReLU:\",leaky_relu) #Leaky ReLU নেগেটিভ ইনপুটের জন্য একটু ছোট নেগেটিভ ভ্যালু রেখে দেয়, ০ করে দেয় না, তাই Dead Neuron সমস্যা কমে।\n",
        "\n",
        "plt.figure(figsize=(10,6))\n",
        "plt.plot(x,sigmoid,label='Sigmoid',color='red')\n",
        "plt.plot(x,tanh,label='Tanh',color='green')\n",
        "plt.plot(x,relu,label='ReLU',color='blue')\n",
        "plt.plot(x,leaky_relu,label='LeakyReLU',color='black')\n",
        "plt.legend()\n",
        "plt.title('Activation Function')\n",
        "plt.grid(True)\n",
        "plt.show()"
      ],
      "metadata": {
        "id": "AzE9mS5779WY",
        "outputId": "e9e6bacb-af1c-438c-8e9b-45e58078eaeb",
        "colab": {
          "base_uri": "https://localhost:8080/",
          "height": 521
        }
      },
      "execution_count": 26,
      "outputs": [
        {
          "output_type": "stream",
          "name": "stdout",
          "text": [
            "Sigmoid: tensor([0.2689, 0.5000, 0.7311, 0.8808])\n",
            "Tanh: tensor([-0.7616,  0.0000,  0.7616,  0.9640])\n",
            "ReLu: tensor([0., 0., 1., 2.])\n",
            "Leaky ReLU: tensor([-0.0100,  0.0000,  1.0000,  2.0000])\n"
          ]
        },
        {
          "output_type": "display_data",
          "data": {
            "text/plain": [
              "<Figure size 640x480 with 1 Axes>"
            ],
            "image/png": "[encoded data removed]"
          },
          "metadata": {}
        }
      ]
    },
    {
      "cell_type": "code",
      "source": [
        "import torch\n",
        "import torch.nn as nn\n",
        "import torch.nn.functional as F\n",
        "import torchvision\n",
        "import torchvision.transforms as transforms\n",
        "\n",
        "# ডেটা ট্রান্সফর্ম আর ডেটাসেট লোড\n",
        "transform = transforms.ToTensor()\n",
        "train_dataset = torchvision.datasets.MNIST(root='./data', train=True, download=True, transform=transform)\n",
        "train_loader = torch.utils.data.DataLoader(dataset=train_dataset, batch_size=64, shuffle=True)\n",
        "\n",
        "# মডেল ডিফাইন\n",
        "class SimpleNN(nn.Module):\n",
        "    def __init__(self, activation='relu'):\n",
        "        super().__init__()\n",
        "        self.fc1 = nn.Linear(28*28, 128)\n",
        "        self.fc2 = nn.Linear(128, 10)\n",
        "        self.activation = activation\n",
        "\n",
        "    def forward(self, x):\n",
        "        x = x.view(-1, 28*28)\n",
        "        x = self.fc1(x)\n",
        "\n",
        "        if self.activation == 'relu':\n",
        "            x = F.relu(x)\n",
        "        elif self.activation == 'sigmoid':\n",
        "            x = torch.sigmoid(x)\n",
        "        elif self.activation == 'tanh':\n",
        "            x = torch.tanh(x)\n",
        "        elif self.activation == 'leaky_relu':\n",
        "            x = F.leaky_relu(x)\n",
        "        else:\n",
        "            x = F.relu(x)\n",
        "\n",
        "        x = self.fc2(x)\n",
        "        return x\n",
        "\n",
        "# মডেল, ক্রসএন্ট্রপি লস, অপটিমাইজার\n",
        "model = SimpleNN(activation='relu')  # 'relu', 'sigmoid', 'tanh', 'leaky_relu' চেষ্টা করো\n",
        "criterion = nn.CrossEntropyLoss()\n",
        "optimizer = torch.optim.Adam(model.parameters(), lr=0.001)\n",
        "\n",
        "# ট্রেনিং লুপ\n",
        "for epoch in range(5):\n",
        "    running_loss = 0.0\n",
        "    for i, (images, labels) in enumerate(train_loader):\n",
        "        optimizer.zero_grad()\n",
        "        outputs = model(images)\n",
        "        loss = criterion(outputs, labels)\n",
        "        loss.backward()\n",
        "        optimizer.step()\n",
        "\n",
        "        running_loss += loss.item()\n",
        "        if (i + 1) % 100 == 0:\n",
        "            print(f\"Epoch [{epoch+1}/5], Step [{i+1}/{len(train_loader)}], Loss: {running_loss/100:.4f}\")\n",
        "            running_loss = 0.0\n",
        "\n",
        "print(\"Training finished!\")\n"
      ],
      "metadata": {
        "id": "0aUdu7ZN9s5y",
        "outputId": "0e13006f-30ce-4adb-f6f5-e6fa8348c0c4",
        "colab": {
          "base_uri": "https://localhost:8080/"
        }
      },
      "execution_count": 24,
      "outputs": [
        {
          "output_type": "stream",
          "name": "stdout",
          "text": [
            "Epoch [1/5], Step [100/938], Loss: 0.9660\n",
            "Epoch [1/5], Step [200/938], Loss: 0.3824\n",
            "Epoch [1/5], Step [300/938], Loss: 0.3319\n",
            "Epoch [1/5], Step [400/938], Loss: 0.3074\n",
            "Epoch [1/5], Step [500/938], Loss: 0.2813\n",
            "Epoch [1/5], Step [600/938], Loss: 0.2706\n",
            "Epoch [1/5], Step [700/938], Loss: 0.2445\n",
            "Epoch [1/5], Step [800/938], Loss: 0.2251\n",
            "Epoch [1/5], Step [900/938], Loss: 0.2361\n",
            "Epoch [2/5], Step [100/938], Loss: 0.1870\n",
            "Epoch [2/5], Step [200/938], Loss: 0.1773\n",
            "Epoch [2/5], Step [300/938], Loss: 0.1636\n",
            "Epoch [2/5], Step [400/938], Loss: 0.1656\n",
            "Epoch [2/5], Step [500/938], Loss: 0.1735\n",
            "Epoch [2/5], Step [600/938], Loss: 0.1612\n",
            "Epoch [2/5], Step [700/938], Loss: 0.1572\n",
            "Epoch [2/5], Step [800/938], Loss: 0.1451\n",
            "Epoch [2/5], Step [900/938], Loss: 0.1454\n",
            "Epoch [3/5], Step [100/938], Loss: 0.1187\n",
            "Epoch [3/5], Step [200/938], Loss: 0.1120\n",
            "Epoch [3/5], Step [300/938], Loss: 0.1042\n",
            "Epoch [3/5], Step [400/938], Loss: 0.1148\n",
            "Epoch [3/5], Step [500/938], Loss: 0.1174\n",
            "Epoch [3/5], Step [600/938], Loss: 0.0925\n",
            "Epoch [3/5], Step [700/938], Loss: 0.1143\n",
            "Epoch [3/5], Step [800/938], Loss: 0.1082\n",
            "Epoch [3/5], Step [900/938], Loss: 0.1139\n",
            "Epoch [4/5], Step [100/938], Loss: 0.0927\n",
            "Epoch [4/5], Step [200/938], Loss: 0.0872\n",
            "Epoch [4/5], Step [300/938], Loss: 0.0842\n",
            "Epoch [4/5], Step [400/938], Loss: 0.0890\n",
            "Epoch [4/5], Step [500/938], Loss: 0.0801\n",
            "Epoch [4/5], Step [600/938], Loss: 0.0799\n",
            "Epoch [4/5], Step [700/938], Loss: 0.0776\n",
            "Epoch [4/5], Step [800/938], Loss: 0.0874\n",
            "Epoch [4/5], Step [900/938], Loss: 0.0769\n",
            "Epoch [5/5], Step [100/938], Loss: 0.0705\n",
            "Epoch [5/5], Step [200/938], Loss: 0.0766\n",
            "Epoch [5/5], Step [300/938], Loss: 0.0687\n",
            "Epoch [5/5], Step [400/938], Loss: 0.0623\n",
            "Epoch [5/5], Step [500/938], Loss: 0.0674\n",
            "Epoch [5/5], Step [600/938], Loss: 0.0635\n",
            "Epoch [5/5], Step [700/938], Loss: 0.0673\n",
            "Epoch [5/5], Step [800/938], Loss: 0.0613\n",
            "Epoch [5/5], Step [900/938], Loss: 0.0578\n",
            "Training finished!\n"
          ]
        }
      ]
    },
    {
      "cell_type": "code",
      "source": [
        "import torch\n",
        "import torch.nn as nn\n",
        "import torch.nn.functional as F\n",
        "import matplotlib.pyplot as plt\n",
        "import pandas as pd\n",
        "\n",
        "# Load dataset\n",
        "df = pd.read_csv('titanic.csv')\n",
        "\n",
        "# Encode categorical columns\n",
        "df['Sex'] = df['Sex'].map({'male': 0, 'female': 1})\n",
        "df['Embarked'] = df['Embarked'].map({'S': 0, 'C': 1, 'Q': 2})\n",
        "\n",
        "# Drop rows with missing values in critical columns\n",
        "df = df.dropna(subset=['Age', 'Embarked', 'Cabin'])\n",
        "\n",
        "# Select features\n",
        "features = ['Pclass', 'Sex', 'Age', 'SibSp', 'Parch', 'Fare', 'Embarked']\n",
        "X = df[features].values\n",
        "y = df['Survived'].values\n",
        "\n",
        "# Standardize features\n",
        "from sklearn.preprocessing import StandardScaler\n",
        "scaler = StandardScaler()\n",
        "X = scaler.fit_transform(X)\n",
        "\n",
        "# Train-test split\n",
        "from sklearn.model_selection import train_test_split\n",
        "X_train, X_test, y_train, y_test = train_test_split(X, y, test_size=0.2, random_state=42)\n",
        "\n",
        "# Convert to tensors\n",
        "X_train = torch.tensor(X_train, dtype=torch.float32)\n",
        "X_test = torch.tensor(X_test, dtype=torch.float32)\n",
        "y_train = torch.tensor(y_train, dtype=torch.long)\n",
        "y_test = torch.tensor(y_test, dtype=torch.long)\n",
        "\n",
        "# Define model\n",
        "class ReLu(nn.Module):\n",
        "    def __init__(self):\n",
        "        super().__init__()\n",
        "        self.fc1 = nn.Linear(len(features), 32)\n",
        "        self.fc2 = nn.Linear(32, 2)\n",
        "\n",
        "    def forward(self, x):\n",
        "        x = F.relu(self.fc1(x))\n",
        "        return self.fc2(x)\n",
        "\n",
        "model = ReLu()\n",
        "\n",
        "# Loss and optimizer\n",
        "loss_fn = nn.CrossEntropyLoss()\n",
        "optimizer = torch.optim.Adam(model.parameters(), lr=0.01)\n",
        "\n",
        "# Training loop\n",
        "for epoch in range(1000):\n",
        "    logits = model(X_train)\n",
        "    loss = loss_fn(logits, y_train)\n",
        "    optimizer.zero_grad()\n",
        "    loss.backward()\n",
        "    optimizer.step()\n",
        "    if epoch % 100 == 0:\n",
        "        print(f\"[CE] Epoch {epoch+1}, Loss: {loss.item():.4f}\")\n",
        "\n",
        "# Evaluation\n",
        "with torch.no_grad():\n",
        "    pred = model(X_test)\n",
        "    predicted = torch.argmax(pred, dim=1)\n",
        "    acc = (predicted == y_test).float().mean()\n",
        "    print(f\"[CE] Accuracy: {acc.item()*100:.2f}%\")\n"
      ],
      "metadata": {
        "id": "q2PsVtgJ-5tj",
        "outputId": "f3a7974d-c449-4852-f597-acc7a79c8d98",
        "colab": {
          "base_uri": "https://localhost:8080/",
          "height": 37
        }
      },
      "execution_count": null,
      "outputs": [
        {
          "output_type": "display_data",
          "data": {
            "text/plain": [
              "<IPython.core.display.HTML object>"
            ],
            "text/html": [
              "\n",
              "     <input type=\"file\" id=\"files-a57b84bf-3dc2-44d6-a5b0-7e4955ee07da\" name=\"files[]\" multiple disabled\n",
              "        style=\"border:none\" />\n",
              "     <output id=\"result-a57b84bf-3dc2-44d6-a5b0-7e4955ee07da\">\n",
              "      Upload widget is only available when the cell has been executed in the\n",
              "      current browser session. Please rerun this cell to enable.\n",
              "      </output>\n",
              "      <script>// Copyright 2017 Google LLC\n",
              "//\n",
              "// Licensed under the Apache License, Version 2.0 (the \"License\");\n",
              "// you may not use this file except in compliance with the License.\n",
              "// You may obtain a copy of the License at\n",
              "//\n",
              "//      http://www.apache.org/licenses/LICENSE-2.0\n",
              "//\n",
              "// Unless required by applicable law or agreed to in writing, software\n",
              "// distributed under the License is distributed on an \"AS IS\" BASIS,\n",
              "// WITHOUT WARRANTIES OR CONDITIONS OF ANY KIND, either express or implied.\n",
              "// See the License for the specific language governing permissions and\n",
              "// limitations under the License.\n",
              "\n",
              "/**\n",
              " * @fileoverview Helpers for google.colab Python module.\n",
              " */\n",
              "(function(scope) {\n",
              "function span(text, styleAttributes = {}) {\n",
              "  const element = document.createElement('span');\n",
              "  element.textContent = text;\n",
              "  for (const key of Object.keys(styleAttributes)) {\n",
              "    element.style[key] = styleAttributes[key];\n",
              "  }\n",
              "  return element;\n",
              "}\n",
              "\n",
              "// Max number of bytes which will be uploaded at a time.\n",
              "const MAX_PAYLOAD_SIZE = 100 * 1024;\n",
              "\n",
              "function _uploadFiles(inputId, outputId) {\n",
              "  const steps = uploadFilesStep(inputId, outputId);\n",
              "  const outputElement = document.getElementById(outputId);\n",
              "  // Cache steps on the outputElement to make it available for the next call\n",
              "  // to uploadFilesContinue from Python.\n",
              "  outputElement.steps = steps;\n",
              "\n",
              "  return _uploadFilesContinue(outputId);\n",
              "}\n",
              "\n",
              "// This is roughly an async generator (not supported in the browser yet),\n",
              "// where there are multiple asynchronous steps and the Python side is going\n",
              "// to poll for completion of each step.\n",
              "// This uses a Promise to block the python side on completion of each step,\n",
              "// then passes the result of the previous step as the input to the next step.\n",
              "function _uploadFilesContinue(outputId) {\n",
              "  const outputElement = document.getElementById(outputId);\n",
              "  const steps = outputElement.steps;\n",
              "\n",
              "  const next = steps.next(outputElement.lastPromiseValue);\n",
              "  return Promise.resolve(next.value.promise).then((value) => {\n",
              "    // Cache the last promise value to make it available to the next\n",
              "    // step of the generator.\n",
              "    outputElement.lastPromiseValue = value;\n",
              "    return next.value.response;\n",
              "  });\n",
              "}\n",
              "\n",
              "/**\n",
              " * Generator function which is called between each async step of the upload\n",
              " * process.\n",
              " * @param {string} inputId Element ID of the input file picker element.\n",
              " * @param {string} outputId Element ID of the output display.\n",
              " * @return {!Iterable<!Object>} Iterable of next steps.\n",
              " */\n",
              "function* uploadFilesStep(inputId, outputId) {\n",
              "  const inputElement = document.getElementById(inputId);\n",
              "  inputElement.disabled = false;\n",
              "\n",
              "  const outputElement = document.getElementById(outputId);\n",
              "  outputElement.innerHTML = '';\n",
              "\n",
              "  const pickedPromise = new Promise((resolve) => {\n",
              "    inputElement.addEventListener('change', (e) => {\n",
              "      resolve(e.target.files);\n",
              "    });\n",
              "  });\n",
              "\n",
              "  const cancel = document.createElement('button');\n",
              "  inputElement.parentElement.appendChild(cancel);\n",
              "  cancel.textContent = 'Cancel upload';\n",
              "  const cancelPromise = new Promise((resolve) => {\n",
              "    cancel.onclick = () => {\n",
              "      resolve(null);\n",
              "    };\n",
              "  });\n",
              "\n",
              "  // Wait for the user to pick the files.\n",
              "  const files = yield {\n",
              "    promise: Promise.race([pickedPromise, cancelPromise]),\n",
              "    response: {\n",
              "      action: 'starting',\n",
              "    }\n",
              "  };\n",
              "\n",
              "  cancel.remove();\n",
              "\n",
              "  // Disable the input element since further picks are not allowed.\n",
              "  inputElement.disabled = true;\n",
              "\n",
              "  if (!files) {\n",
              "    return {\n",
              "      response: {\n",
              "        action: 'complete',\n",
              "      }\n",
              "    };\n",
              "  }\n",
              "\n",
              "  for (const file of files) {\n",
              "    const li = document.createElement('li');\n",
              "    li.append(span(file.name, {fontWeight: 'bold'}));\n",
              "    li.append(span(\n",
              "        `(${file.type || 'n/a'}) - ${file.size} bytes, ` +\n",
              "        `last modified: ${\n",
              "            file.lastModifiedDate ? file.lastModifiedDate.toLocaleDateString() :\n",
              "                                    'n/a'} - `));\n",
              "    const percent = span('0% done');\n",
              "    li.appendChild(percent);\n",
              "\n",
              "    outputElement.appendChild(li);\n",
              "\n",
              "    const fileDataPromise = new Promise((resolve) => {\n",
              "      const reader = new FileReader();\n",
              "      reader.onload = (e) => {\n",
              "        resolve(e.target.result);\n",
              "      };\n",
              "      reader.readAsArrayBuffer(file);\n",
              "    });\n",
              "    // Wait for the data to be ready.\n",
              "    let fileData = yield {\n",
              "      promise: fileDataPromise,\n",
              "      response: {\n",
              "        action: 'continue',\n",
              "      }\n",
              "    };\n",
              "\n",
              "    // Use a chunked sending to avoid message size limits. See b/62115660.\n",
              "    let position = 0;\n",
              "    do {\n",
              "      const length = Math.min(fileData.byteLength - position, MAX_PAYLOAD_SIZE);\n",
              "      const chunk = new Uint8Array(fileData, position, length);\n",
              "      position += length;\n",
              "\n",
              "      const base64 = btoa(String.fromCharCode.apply(null, chunk));\n",
              "      yield {\n",
              "        response: {\n",
              "          action: 'append',\n",
              "          file: file.name,\n",
              "          data: base64,\n",
              "        },\n",
              "      };\n",
              "\n",
              "      let percentDone = fileData.byteLength === 0 ?\n",
              "          100 :\n",
              "          Math.round((position / fileData.byteLength) * 100);\n",
              "      percent.textContent = `${percentDone}% done`;\n",
              "\n",
              "    } while (position < fileData.byteLength);\n",
              "  }\n",
              "\n",
              "  // All done.\n",
              "  yield {\n",
              "    response: {\n",
              "      action: 'complete',\n",
              "    }\n",
              "  };\n",
              "}\n",
              "\n",
              "scope.google = scope.google || {};\n",
              "scope.google.colab = scope.google.colab || {};\n",
              "scope.google.colab._files = {\n",
              "  _uploadFiles,\n",
              "  _uploadFilesContinue,\n",
              "};\n",
              "})(self);\n",
              "</script> "
            ]
          },
          "metadata": {}
        }
      ]
    },
    {
      "cell_type": "code",
      "source": [],
      "metadata": {
        "id": "Bgw6RzSzCUtb"
      },
      "execution_count": null,
      "outputs": []
    }
  ]
}