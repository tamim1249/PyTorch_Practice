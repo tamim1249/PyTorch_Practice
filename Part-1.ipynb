{
 "cells": [
  {
   "cell_type": "code",
   "execution_count": 4,
   "id": "1eb90b7f-ac6c-4231-8b8c-bfac750d4e05",
   "metadata": {},
   "outputs": [
    {
     "name": "stdout",
     "output_type": "stream",
     "text": [
      "PyTorch version: 2.7.1+cpu\n"
     ]
    }
   ],
   "source": [
    "#Tamim Mahmud from Daffodil International University\n",
    "#08/07/2025\n",
    "#Day 17\n",
    "import torch \n",
    "print(\"PyTorch version:\",torch.__version__)"
   ]
  },
  {
   "cell_type": "markdown",
   "id": "50f5ef1e-fd85-41fa-a46b-b10560c0712e",
   "metadata": {},
   "source": [
    "part->01\n",
    "\n",
    "Tensor Basick"
   ]
  },
  {
   "cell_type": "markdown",
   "id": "ea420b52-9161-4979-a61c-f85edea3d4ac",
   "metadata": {},
   "source": [
    "\n",
    "torch.tensor([1,2,3,4])"
   ]
  },
  {
   "cell_type": "code",
   "execution_count": 6,
   "id": "482dc0eb-b494-403b-9f7f-a035e4a515cf",
   "metadata": {},
   "outputs": [
    {
     "name": "stdout",
     "output_type": "stream",
     "text": [
      "tensor([[0.7691, 0.3656, 0.2309],\n",
      "        [0.2860, 0.1842, 0.7448],\n",
      "        [0.9811, 0.8228, 0.4391]])\n"
     ]
    }
   ],
   "source": [
    "x=torch.rand(3,3)\n",
    "print(x)"
   ]
  },
  {
   "cell_type": "code",
   "execution_count": 7,
   "id": "8e36e144-64d9-4651-b949-7acba039d526",
   "metadata": {},
   "outputs": [
    {
     "name": "stdout",
     "output_type": "stream",
     "text": [
      "tensor([[8.3935e-01, 9.9616e-01, 7.3642e-01, 5.3453e-01],\n",
      "        [2.9939e-01, 9.6072e-01, 2.3880e-01, 4.0233e-01],\n",
      "        [6.1577e-01, 8.5763e-01, 7.2397e-01, 6.2352e-04],\n",
      "        [3.1278e-01, 4.9627e-02, 1.0049e-01, 2.1151e-01]])\n"
     ]
    }
   ],
   "source": [
    "y=torch.rand(4,4)\n",
    "print(y)"
   ]
  },
  {
   "cell_type": "code",
   "execution_count": 8,
   "id": "5bf0bd2b-1ba8-41a2-b2c6-dd66d399c56c",
   "metadata": {},
   "outputs": [
    {
     "name": "stdout",
     "output_type": "stream",
     "text": [
      "False\n"
     ]
    }
   ],
   "source": [
    "import torch\n",
    "print(torch.cuda.is_available())"
   ]
  },
  {
   "cell_type": "code",
   "execution_count": 9,
   "id": "1ba784d3-d132-444b-b07c-3e52dca4ce97",
   "metadata": {},
   "outputs": [
    {
     "data": {
      "text/plain": [
       "tensor([0.0002])"
      ]
     },
     "execution_count": 9,
     "metadata": {},
     "output_type": "execute_result"
    }
   ],
   "source": [
    "x=torch.empty(1)\n",
    "x"
   ]
  },
  {
   "cell_type": "code",
   "execution_count": 10,
   "id": "6e86da50-a8b7-4b06-9d21-97d2901711ae",
   "metadata": {},
   "outputs": [
    {
     "data": {
      "text/plain": [
       "tensor([[0., 0., 0.],\n",
       "        [0., 0., 0.]])"
      ]
     },
     "execution_count": 10,
     "metadata": {},
     "output_type": "execute_result"
    }
   ],
   "source": [
    "x=torch.empty(2,3)\n",
    "x"
   ]
  },
  {
   "cell_type": "code",
   "execution_count": 11,
   "id": "c0d349ae-81b6-49c5-b2c4-acb7911ea1dc",
   "metadata": {},
   "outputs": [
    {
     "data": {
      "text/plain": [
       "tensor([[[1.8597e-04, 1.7278e-42, 0.0000e+00, 0.0000e+00],\n",
       "         [0.0000e+00, 0.0000e+00, 0.0000e+00, 0.0000e+00],\n",
       "         [0.0000e+00, 0.0000e+00, 0.0000e+00, 0.0000e+00]],\n",
       "\n",
       "        [[0.0000e+00, 0.0000e+00, 0.0000e+00, 0.0000e+00],\n",
       "         [0.0000e+00, 0.0000e+00, 0.0000e+00, 0.0000e+00],\n",
       "         [0.0000e+00, 0.0000e+00, 0.0000e+00, 0.0000e+00]]])"
      ]
     },
     "execution_count": 11,
     "metadata": {},
     "output_type": "execute_result"
    }
   ],
   "source": [
    "x=torch.empty(2,3,4)\n",
    "x"
   ]
  },
  {
   "cell_type": "code",
   "execution_count": 12,
   "id": "0c1d240e-1bec-48ed-ae65-97b6c7fb421b",
   "metadata": {},
   "outputs": [
    {
     "data": {
      "text/plain": [
       "<function Tensor.size>"
      ]
     },
     "execution_count": 12,
     "metadata": {},
     "output_type": "execute_result"
    }
   ],
   "source": [
    "x.size"
   ]
  },
  {
   "cell_type": "code",
   "execution_count": 13,
   "id": "2cd2294f-f540-4790-9d62-f582191841db",
   "metadata": {},
   "outputs": [
    {
     "data": {
      "text/plain": [
       "3"
      ]
     },
     "execution_count": 13,
     "metadata": {},
     "output_type": "execute_result"
    }
   ],
   "source": [
    "x.ndim"
   ]
  },
  {
   "cell_type": "code",
   "execution_count": 14,
   "id": "4342a028-5964-4ed0-985f-47144e4fa68e",
   "metadata": {},
   "outputs": [
    {
     "data": {
      "text/plain": [
       "tensor([[[0., 0., 0.],\n",
       "         [0., 0., 0.],\n",
       "         [0., 0., 0.]],\n",
       "\n",
       "        [[0., 0., 0.],\n",
       "         [0., 0., 0.],\n",
       "         [0., 0., 0.]],\n",
       "\n",
       "        [[0., 0., 0.],\n",
       "         [0., 0., 0.],\n",
       "         [0., 0., 0.]]])"
      ]
     },
     "execution_count": 14,
     "metadata": {},
     "output_type": "execute_result"
    }
   ],
   "source": [
    "x=torch.zeros(3,3,3)\n",
    "x"
   ]
  },
  {
   "cell_type": "code",
   "execution_count": 15,
   "id": "b97a8dde-b8ab-4571-90cf-a274486d17d9",
   "metadata": {},
   "outputs": [
    {
     "data": {
      "text/plain": [
       "tensor([[1., 1., 1.],\n",
       "        [1., 1., 1.]])"
      ]
     },
     "execution_count": 15,
     "metadata": {},
     "output_type": "execute_result"
    }
   ],
   "source": [
    "x=torch.ones(2,3)\n",
    "x"
   ]
  },
  {
   "cell_type": "code",
   "execution_count": 16,
   "id": "170282c7-14b9-4152-8cbb-886aed6c0050",
   "metadata": {},
   "outputs": [
    {
     "data": {
      "text/plain": [
       "tensor([[[8, 8, 8],\n",
       "         [8, 8, 8],\n",
       "         [8, 8, 8]],\n",
       "\n",
       "        [[8, 8, 8],\n",
       "         [8, 8, 8],\n",
       "         [8, 8, 8]]])"
      ]
     },
     "execution_count": 16,
     "metadata": {},
     "output_type": "execute_result"
    }
   ],
   "source": [
    "d=torch.full((2,3,3),fill_value=8)\n",
    "d"
   ]
  },
  {
   "cell_type": "code",
   "execution_count": 17,
   "id": "35f2688d-b82f-4f93-82c2-65c77322f9c1",
   "metadata": {},
   "outputs": [
    {
     "data": {
      "text/plain": [
       "tensor([[100, 100, 100],\n",
       "        [100, 100, 100],\n",
       "        [100, 100, 100]])"
      ]
     },
     "execution_count": 17,
     "metadata": {},
     "output_type": "execute_result"
    }
   ],
   "source": [
    "s=torch.full((3,3),fill_value=100)\n",
    "s"
   ]
  },
  {
   "cell_type": "code",
   "execution_count": 18,
   "id": "54abd0cb-c720-42e4-a64c-215146287c8f",
   "metadata": {},
   "outputs": [
    {
     "data": {
      "text/plain": [
       "tensor([[[0., 0.],\n",
       "         [0., 0.],\n",
       "         [0., 0.]],\n",
       "\n",
       "        [[0., 0.],\n",
       "         [0., 0.],\n",
       "         [0., 0.]]], dtype=torch.float64)"
      ]
     },
     "execution_count": 18,
     "metadata": {},
     "output_type": "execute_result"
    }
   ],
   "source": [
    "x=torch.empty(2,3,2,dtype=torch.double)\n",
    "x"
   ]
  },
  {
   "cell_type": "code",
   "execution_count": 19,
   "id": "d1aef937-f6b1-47aa-8982-78897be8baec",
   "metadata": {},
   "outputs": [
    {
     "data": {
      "text/plain": [
       "tensor([1, 2, 3, 4])"
      ]
     },
     "execution_count": 19,
     "metadata": {},
     "output_type": "execute_result"
    }
   ],
   "source": [
    "x=torch.tensor([1,2,3,4])\n",
    "x"
   ]
  },
  {
   "cell_type": "code",
   "execution_count": 28,
   "id": "2dbc865f-11d1-4e9e-8073-e95830f42d0b",
   "metadata": {},
   "outputs": [
    {
     "name": "stdout",
     "output_type": "stream",
     "text": [
      "tensor([[0.5221, 0.3800],\n",
      "        [0.0026, 0.1635]])\n"
     ]
    }
   ],
   "source": [
    "x=torch.rand(2,2)\n",
    "y=torch.rand(2,2)\n",
    "y.mul_(x)\n",
    "print(y)"
   ]
  },
  {
   "cell_type": "code",
   "execution_count": 29,
   "id": "8b2beefb-7a99-426b-8d80-69c27fb3f590",
   "metadata": {},
   "outputs": [
    {
     "data": {
      "text/plain": [
       "tensor([[4.6320e-01, 1.9072e-01],\n",
       "        [1.0135e-04, 1.1251e-01]])"
      ]
     },
     "execution_count": 29,
     "metadata": {},
     "output_type": "execute_result"
    }
   ],
   "source": [
    "d=torch.mul(x,y)\n",
    "d"
   ]
  },
  {
   "cell_type": "code",
   "execution_count": 32,
   "id": "682ec1f6-a6c4-45f4-9317-96e319c09c3f",
   "metadata": {},
   "outputs": [
    {
     "data": {
      "text/plain": [
       "tensor([1., 1., 1., 1., 1.], requires_grad=True)"
      ]
     },
     "execution_count": 32,
     "metadata": {},
     "output_type": "execute_result"
    }
   ],
   "source": [
    "x=torch.ones(5,requires_grad=True)\n",
    "x"
   ]
  },
  {
   "cell_type": "code",
   "execution_count": 40,
   "id": "e6da3fd8-62de-4d69-b512-0bc18c8d5803",
   "metadata": {},
   "outputs": [
    {
     "name": "stdout",
     "output_type": "stream",
     "text": [
      "tensor([2., 2., 2., 2., 2.])\n",
      "tensor(10., grad_fn=<SumBackward0>)\n"
     ]
    }
   ],
   "source": [
    "x=torch.ones(5,requires_grad=True)\n",
    "y=x*2\n",
    "z=y.sum()\n",
    "z.backward()\n",
    "print(x.grad)\n",
    "print(z)"
   ]
  },
  {
   "cell_type": "code",
   "execution_count": 38,
   "id": "332e839c-7673-423c-988b-079de58f9830",
   "metadata": {},
   "outputs": [
    {
     "name": "stdout",
     "output_type": "stream",
     "text": [
      "x=   2.0\n",
      "y=   18.0\n",
      "Gradient dy/dx :  19.0\n"
     ]
    }
   ],
   "source": [
    "x=torch.tensor([2.0],requires_grad=True)\n",
    "y=x**3+x**2+3*x\n",
    "y.backward()\n",
    "print(\"x=  \",x.item())\n",
    "print(\"y=  \",y.item())\n",
    "print(\"Gradient dy/dx : \",x.grad.item())"
   ]
  },
  {
   "cell_type": "code",
   "execution_count": 55,
   "id": "3b1e4cc0-f9d1-434d-ba61-55bbfa6eb1bc",
   "metadata": {},
   "outputs": [
    {
     "name": "stdout",
     "output_type": "stream",
     "text": [
      "tensor(-9.9597, grad_fn=<SumBackward0>)\n",
      "tensor([ 5.3618,  5.2379, 11.0115])\n"
     ]
    }
   ],
   "source": [
    "x=torch.randn(3,requires_grad=True)\n",
    "y=x**5+x**4+x**3+x**2+5*x\n",
    "y=y.sum()\n",
    "y.backward()\n",
    "print(y)\n",
    "print(x.grad)"
   ]
  },
  {
   "cell_type": "code",
   "execution_count": 62,
   "id": "12247112-f700-498a-bc87-e1152f067486",
   "metadata": {},
   "outputs": [
    {
     "name": "stdout",
     "output_type": "stream",
     "text": [
      "tensor([ 0.4939,  0.6736, -1.1457], requires_grad=True)\n",
      "\n",
      "False\n",
      "False\n"
     ]
    }
   ],
   "source": [
    "#3 ways for stop gradient function\n",
    "x=torch.randn(3,requires_grad=True)\n",
    "print(x)\n",
    "print()\n",
    "x=requires_grad=False\n",
    "print(x)\n",
    "\n",
    "with torch.no_grad():\n",
    "    z=x\n",
    "    print(z)"
   ]
  },
  {
   "cell_type": "code",
   "execution_count": 64,
   "id": "0260e58e-3da3-406d-830c-13dafd787878",
   "metadata": {},
   "outputs": [
    {
     "name": "stdout",
     "output_type": "stream",
     "text": [
      "tensor([3., 3., 3., 3.])\n",
      "tensor([3., 3., 3., 3.])\n",
      "tensor([3., 3., 3., 3.])\n",
      "tensor([3., 3., 3., 3.])\n"
     ]
    }
   ],
   "source": [
    "w=torch.ones(4,requires_grad=True)\n",
    "for epoch in range(4):\n",
    "    output=(w*3).sum()\n",
    "    output.backward()\n",
    "    print(w.grad)\n",
    "    w.grad.zero_()"
   ]
  },
  {
   "cell_type": "code",
   "execution_count": 65,
   "id": "3f2a1d26-2b40-41e9-9336-2259af5a56a6",
   "metadata": {},
   "outputs": [
    {
     "name": "stdout",
     "output_type": "stream",
     "text": [
      "tensor([0.9700, 0.9700, 0.9700, 0.9700], requires_grad=True)\n"
     ]
    }
   ],
   "source": [
    "import torch\n",
    "\n",
    "w=torch.ones(4,requires_grad=True)\n",
    "optimizer=torch.optim.SGD([w],lr=0.01)\n",
    "\n",
    "output=(w*3).sum()\n",
    "\n",
    "output.backward()\n",
    "\n",
    "optimizer.step()\n",
    "\n",
    "optimizer.zero_grad()\n",
    "\n",
    "print(w)"
   ]
  },
  {
   "cell_type": "code",
   "execution_count": 66,
   "id": "730e9424-57bd-434a-a1b4-72ec208e3552",
   "metadata": {},
   "outputs": [],
   "source": [
    "#Part 1 is completed "
   ]
  },
  {
   "cell_type": "markdown",
   "id": "3a433df7-ef3f-4595-98b9-ececf6edd890",
   "metadata": {},
   "source": [
    "Part->2\n",
    "\n",
    "Autograd & Gradient Descent"
   ]
  },
  {
   "cell_type": "code",
   "execution_count": 72,
   "id": "716acc00-8764-46eb-aaf6-44f49cc5a90e",
   "metadata": {},
   "outputs": [
    {
     "name": "stdout",
     "output_type": "stream",
     "text": [
      "tensor(4., requires_grad=True)\n",
      "tensor(100., grad_fn=<AddBackward0>)\n",
      "tensor(61.)\n"
     ]
    }
   ],
   "source": [
    "x=torch.tensor(4.0,requires_grad=True)\n",
    "y=x**3+x**2+5*x\n",
    "y.backward()\n",
    "print(x)\n",
    "print(y)\n",
    "print(x.grad)"
   ]
  },
  {
   "cell_type": "code",
   "execution_count": 74,
   "id": "74935137-d21c-4b51-a4cc-1bd554566498",
   "metadata": {},
   "outputs": [
    {
     "name": "stdout",
     "output_type": "stream",
     "text": [
      "None\n"
     ]
    }
   ],
   "source": [
    "x=torch.tensor(4.0,requires_grad=False)\n",
    "print(x.grad)"
   ]
  },
  {
   "cell_type": "code",
   "execution_count": null,
   "id": "22f600c1-0b60-4d2d-ae3a-ea6a40d6cde9",
   "metadata": {},
   "outputs": [],
   "source": [
    "import torch\n",
    "import matplotlib.pyplot as plt\n",
    "w=0.0\n",
    "lr=0.01\n",
    "epoch=25\n",
    "loss_list=[]\n",
    "w_list=[]\n",
    "\n",
    "for i in range(epoch):\n",
    "    loss=(2*w-4)**2\n",
    "    grad=8*w-16\n",
    "    w=w-lr*grad\n",
    "    loss_list.append(loss)\n",
    "    w_list.append(w)\n",
    "    print(f\"Epoch{i+1}:  w=  {w:.4f}, loss={loss:.4f}\")\n",
    "\n",
    "plt.plot(loss_list)\n",
    "plt.xlabel(\"Epoch\")\n",
    "plt.ylabel(\"Loss\")\n",
    "plt.title(\"Manually Gradient Descent Loss\")\n",
    "plt.show()\n",
    "\n",
    "\n",
    "    \n",
    "    \n",
    "  \n",
    "    \n",
    "   \n",
    "\n",
    "\n"
   ]
  },
  {
   "cell_type": "code",
   "execution_count": 37,
   "id": "476cbb4c-3c18-4363-95ba-c5fe534db976",
   "metadata": {},
   "outputs": [
    {
     "name": "stdout",
     "output_type": "stream",
     "text": [
      "[CE] Epoch 1, Loss: 0.6644\n",
      "[CE] Epoch 101, Loss: 0.2301\n",
      "[CE] Epoch 201, Loss: 0.1618\n",
      "[CE] Epoch 301, Loss: 0.1330\n",
      "[CE] Epoch 401, Loss: 0.1100\n",
      "[CE] Epoch 501, Loss: 0.0930\n",
      "[CE] Epoch 601, Loss: 0.0808\n",
      "[CE] Epoch 701, Loss: 0.0720\n",
      "[CE] Epoch 801, Loss: 0.0660\n",
      "[CE] Epoch 901, Loss: 0.0611\n",
      "[CE] Accuracy: 70.27%\n"
     ]
    }
   ],
   "source": [
    "c"
   ]
  },
  {
   "cell_type": "code",
   "execution_count": null,
   "id": "4e2c5bcb-f44c-43a6-9ded-cd58cded381e",
   "metadata": {},
   "outputs": [],
   "source": []
  }
 ],
 "metadata": {
  "kernelspec": {
   "display_name": "Python 3 (ipykernel)",
   "language": "python",
   "name": "python3"
  },
  "language_info": {
   "codemirror_mode": {
    "name": "ipython",
    "version": 3
   },
   "file_extension": ".py",
   "mimetype": "text/x-python",
   "name": "python",
   "nbconvert_exporter": "python",
   "pygments_lexer": "ipython3",
   "version": "3.12.7"
  }
 },
 "nbformat": 4,
 "nbformat_minor": 5
}
